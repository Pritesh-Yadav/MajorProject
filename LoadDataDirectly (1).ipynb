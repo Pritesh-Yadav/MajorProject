{
  "nbformat": 4,
  "nbformat_minor": 0,
  "metadata": {
    "colab": {
      "provenance": []
    },
    "kernelspec": {
      "name": "python3",
      "display_name": "Python 3"
    },
    "language_info": {
      "name": "python"
    }
  },
  "cells": [
    {
      "cell_type": "code",
      "source": [
        "pip install sodapy"
      ],
      "metadata": {
        "colab": {
          "base_uri": "https://localhost:8080/"
        },
        "id": "2MmPB45j1aB5",
        "outputId": "25e33a56-d442-4464-d3b5-dd6e56a74f44"
      },
      "execution_count": 6,
      "outputs": [
        {
          "output_type": "stream",
          "name": "stdout",
          "text": [
            "Looking in indexes: https://pypi.org/simple, https://us-python.pkg.dev/colab-wheels/public/simple/\n",
            "Requirement already satisfied: sodapy in /usr/local/lib/python3.8/dist-packages (2.2.0)\n",
            "Requirement already satisfied: requests>=2.28.1 in /usr/local/lib/python3.8/dist-packages (from sodapy) (2.28.1)\n",
            "Requirement already satisfied: certifi>=2017.4.17 in /usr/local/lib/python3.8/dist-packages (from requests>=2.28.1->sodapy) (2022.9.24)\n",
            "Requirement already satisfied: urllib3<1.27,>=1.21.1 in /usr/local/lib/python3.8/dist-packages (from requests>=2.28.1->sodapy) (1.24.3)\n",
            "Requirement already satisfied: idna<4,>=2.5 in /usr/local/lib/python3.8/dist-packages (from requests>=2.28.1->sodapy) (2.10)\n",
            "Requirement already satisfied: charset-normalizer<3,>=2 in /usr/local/lib/python3.8/dist-packages (from requests>=2.28.1->sodapy) (2.1.1)\n"
          ]
        }
      ]
    },
    {
      "cell_type": "code",
      "execution_count": 7,
      "metadata": {
        "colab": {
          "base_uri": "https://localhost:8080/"
        },
        "id": "4Z2zbPsV1YB9",
        "outputId": "f76fc04e-c3e9-47ab-e5ef-fb89d7af05fe"
      },
      "outputs": [
        {
          "output_type": "stream",
          "name": "stderr",
          "text": [
            "WARNING:root:Requests made without an app_token will be subject to strict throttling limits.\n"
          ]
        }
      ],
      "source": [
        "#!/usr/bin/env python\n",
        "\n",
        "# make sure to install these packages before running:\n",
        "# pip install pandas\n",
        "# pip install sodapy\n",
        "\n",
        "#see here https://dev.socrata.com/foundry/data.cityofnewyork.us/nc67-uf89\n",
        "\n",
        "import pandas as pd\n",
        "from sodapy import Socrata\n",
        "\n",
        "# Unauthenticated client only works with public data sets. Note 'None'\n",
        "# in place of application token, and no username or password:\n",
        "client = Socrata(\"data.cityofnewyork.us\", None)\n",
        "\n",
        "#APiKey ID: 8snpjf5l16qfu634ab2d2tvih\n",
        "#APIKey: 56k8kcn3t2qint7xcl4cwn2owglxboncxi0a19p8fey1ln3hol\n",
        "\n",
        "# Example authenticated client (needed for non-public datasets):\n",
        "# client = Socrata(data.cityofnewyork.us,\n",
        "#                  MyAppToken,\n",
        "#                  username=\"user@example.com\",\n",
        "#                  password=\"AFakePassword\")\n",
        "\n",
        "# First 2000 results, returned as JSON from API / converted to Python list of\n",
        "# dictionaries by sodapy.\n",
        "results = client.get(\"nc67-uf89\", limit=20)\n",
        "\n",
        "# Convert to pandas DataFrame\n",
        "results_df = pd.DataFrame.from_records(results)"
      ]
    },
    {
      "cell_type": "code",
      "source": [
        "print(results_df)"
      ],
      "metadata": {
        "colab": {
          "base_uri": "https://localhost:8080/"
        },
        "id": "yEExpmJHOCBT",
        "outputId": "be7c212e-6314-40b4-84a8-bdc8eef968c0"
      },
      "execution_count": 10,
      "outputs": [
        {
          "output_type": "stream",
          "name": "stdout",
          "text": [
            "      plate state license_type summons_number  issue_date violation_time  \\\n",
            "0   KRM0200    PA          PAS     8739158305  04/28/2019         01:47P   \n",
            "1   JHV1514    NY          PAS     8739158378  04/28/2019         02:34P   \n",
            "2   2192805    IN          PAS     8739200530  03/12/2019         09:31A   \n",
            "3   60914JY    NY          COM     8739203979  03/28/2019         01:28P   \n",
            "4   HFG7613    NY          PAS     8739207304  04/16/2019         01:10P   \n",
            "5   HXE4201    NY          PAS     8739207663  04/18/2019         10:52A   \n",
            "6   FDG6583    NY          PAS     8739208953  04/25/2019         12:05P   \n",
            "7     ZE287    RI          PAS     8739209271  04/29/2019         08:42A   \n",
            "8   JBH1138    NY          PAS     8739254811  04/03/2019         06:23A   \n",
            "9   JBN5801    NY          PAS     8739257204  04/25/2019         07:15A   \n",
            "10   XFWZ80    NJ          PAS     8739258415  04/30/2019         09:48A   \n",
            "11  AN55442    CT          PAS     8739300523  02/01/2019         12:17P   \n",
            "12  CZE1072    NY          PAS     8739303550  02/28/2019         12:27P   \n",
            "13  FLN2385    NY          PAS     8739308388  04/01/2019         04:42P   \n",
            "14  FGE5211    NY          PAS     8739311727  04/25/2019         12:31P   \n",
            "15  HPB5150    NY          PAS     8739311788  04/25/2019         01:49P   \n",
            "16  HJV7615    NY          PAS     8739352560  02/15/2019         01:44P   \n",
            "17  BGA9877    NY          PAS     8739359402  04/02/2019         03:21P   \n",
            "18  JEJ3178    NY          PAS     8739359426  04/02/2019         04:38P   \n",
            "19  JGT9520    NY          OMS     8739359505  04/03/2019         02:41P   \n",
            "\n",
            "                         violation fine_amount penalty_amount interest_amount  \\\n",
            "0       NO PARKING-DAY/TIME LIMITS          65              0               0   \n",
            "1      NO STANDING-DAY/TIME LIMITS         115              0               0   \n",
            "2   FAIL TO DSPLY MUNI METER RECPT          35              0               0   \n",
            "3      NO STANDING-DAY/TIME LIMITS         115              0               0   \n",
            "4   FAIL TO DSPLY MUNI METER RECPT          35              0               0   \n",
            "5               EXPIRED MUNI METER          35              0               0   \n",
            "6               EXPIRED MUNI METER          35              0               0   \n",
            "7       NO PARKING-STREET CLEANING          45              0               0   \n",
            "8                     FIRE HYDRANT         115             10               0   \n",
            "9       NO PARKING-DAY/TIME LIMITS          60              0               0   \n",
            "10      NO PARKING-STREET CLEANING          45              0               0   \n",
            "11      NO PARKING-STREET CLEANING          45             10               0   \n",
            "12  FAIL TO DSPLY MUNI METER RECPT          35             10               0   \n",
            "13  FAIL TO DSPLY MUNI METER RECPT          35             10               0   \n",
            "14     FRONT OR BACK PLATE MISSING          65              0               0   \n",
            "15  FAIL TO DSPLY MUNI METER RECPT          35              0               0   \n",
            "16                       BIKE LANE         115             30               0   \n",
            "17   INSP. STICKER-EXPIRED/MISSING          65             10               0   \n",
            "18                  DOUBLE PARKING         115             10               0   \n",
            "19            NO STANDING-BUS STOP         115             10               0   \n",
            "\n",
            "   reduction_amount payment_amount amount_due precinct county issuing_agency  \\\n",
            "0                65              0          0      005     NY        TRAFFIC   \n",
            "1                 0            115          0      005     NY        TRAFFIC   \n",
            "2                 0             35          0      115      Q        TRAFFIC   \n",
            "3                 0            115          0      115      Q        TRAFFIC   \n",
            "4                35              0          0      114      Q        TRAFFIC   \n",
            "5                35              0          0      114      Q        TRAFFIC   \n",
            "6                 0             35          0      115      Q        TRAFFIC   \n",
            "7                 0             45          0      114      Q        TRAFFIC   \n",
            "8                10            115          0      025     NY        TRAFFIC   \n",
            "9                 0             60          0      032     NY        TRAFFIC   \n",
            "10                0             45          0      032     NY        TRAFFIC   \n",
            "11                0             55          0      048     BX        TRAFFIC   \n",
            "12               45              0          0      045     BX        TRAFFIC   \n",
            "13               10             35          0      045     BX        TRAFFIC   \n",
            "14               65              0          0      045     BX        TRAFFIC   \n",
            "15               35              0          0      045     BX        TRAFFIC   \n",
            "16                0            145          0      052     BX        TRAFFIC   \n",
            "17               10             65          0      047     BX        TRAFFIC   \n",
            "18               10            115          0      047     BX        TRAFFIC   \n",
            "19               10            115          0      050     BX        TRAFFIC   \n",
            "\n",
            "           violation_status                                      summons_image  \n",
            "0   HEARING HELD-NOT GUILTY  {'url': 'http://nycserv.nyc.gov/NYCServWeb/Sho...  \n",
            "1                       NaN  {'url': 'http://nycserv.nyc.gov/NYCServWeb/Sho...  \n",
            "2       HEARING HELD-GUILTY  {'url': 'http://nycserv.nyc.gov/NYCServWeb/Sho...  \n",
            "3       HEARING HELD-GUILTY  {'url': 'http://nycserv.nyc.gov/NYCServWeb/Sho...  \n",
            "4   HEARING HELD-NOT GUILTY  {'url': 'http://nycserv.nyc.gov/NYCServWeb/Sho...  \n",
            "5   HEARING HELD-NOT GUILTY  {'url': 'http://nycserv.nyc.gov/NYCServWeb/Sho...  \n",
            "6                       NaN  {'url': 'http://nycserv.nyc.gov/NYCServWeb/Sho...  \n",
            "7                       NaN  {'url': 'http://nycserv.nyc.gov/NYCServWeb/Sho...  \n",
            "8                       NaN  {'url': 'http://nycserv.nyc.gov/NYCServWeb/Sho...  \n",
            "9                       NaN  {'url': 'http://nycserv.nyc.gov/NYCServWeb/Sho...  \n",
            "10                      NaN  {'url': 'http://nycserv.nyc.gov/NYCServWeb/Sho...  \n",
            "11      HEARING HELD-GUILTY  {'url': 'http://nycserv.nyc.gov/NYCServWeb/Sho...  \n",
            "12  HEARING HELD-NOT GUILTY  {'url': 'http://nycserv.nyc.gov/NYCServWeb/Sho...  \n",
            "13                      NaN  {'url': 'http://nycserv.nyc.gov/NYCServWeb/Sho...  \n",
            "14  HEARING HELD-NOT GUILTY  {'url': 'http://nycserv.nyc.gov/NYCServWeb/Sho...  \n",
            "15  HEARING HELD-NOT GUILTY  {'url': 'http://nycserv.nyc.gov/NYCServWeb/Sho...  \n",
            "16                      NaN  {'url': 'http://nycserv.nyc.gov/NYCServWeb/Sho...  \n",
            "17                      NaN  {'url': 'http://nycserv.nyc.gov/NYCServWeb/Sho...  \n",
            "18                      NaN  {'url': 'http://nycserv.nyc.gov/NYCServWeb/Sho...  \n",
            "19                      NaN  {'url': 'http://nycserv.nyc.gov/NYCServWeb/Sho...  \n"
          ]
        }
      ]
    },
    {
      "cell_type": "code",
      "source": [
        "precNY = results_df.precinct\n",
        "countyNY = results_df.county\n",
        "Plist = list(\"NYPD Precinct \"+precNY+\", \"+countyNY)\n",
        "print(Plist)"
      ],
      "metadata": {
        "colab": {
          "base_uri": "https://localhost:8080/"
        },
        "id": "u4NMXUsc2YaW",
        "outputId": "3f0b0891-a806-4c21-8f76-581f9cbd2451"
      },
      "execution_count": 11,
      "outputs": [
        {
          "output_type": "stream",
          "name": "stdout",
          "text": [
            "['NYPD Precinct 005, NY', 'NYPD Precinct 005, NY', 'NYPD Precinct 115, Q', 'NYPD Precinct 115, Q', 'NYPD Precinct 114, Q', 'NYPD Precinct 114, Q', 'NYPD Precinct 115, Q', 'NYPD Precinct 114, Q', 'NYPD Precinct 025, NY', 'NYPD Precinct 032, NY', 'NYPD Precinct 032, NY', 'NYPD Precinct 048, BX', 'NYPD Precinct 045, BX', 'NYPD Precinct 045, BX', 'NYPD Precinct 045, BX', 'NYPD Precinct 045, BX', 'NYPD Precinct 052, BX', 'NYPD Precinct 047, BX', 'NYPD Precinct 047, BX', 'NYPD Precinct 050, BX']\n"
          ]
        }
      ]
    },
    {
      "cell_type": "code",
      "source": [
        "pip install geopy"
      ],
      "metadata": {
        "colab": {
          "base_uri": "https://localhost:8080/"
        },
        "id": "MVFiNFWi60K5",
        "outputId": "ef13b954-068a-4d4d-d208-504885ae1466"
      },
      "execution_count": 12,
      "outputs": [
        {
          "output_type": "stream",
          "name": "stdout",
          "text": [
            "Looking in indexes: https://pypi.org/simple, https://us-python.pkg.dev/colab-wheels/public/simple/\n",
            "Requirement already satisfied: geopy in /usr/local/lib/python3.8/dist-packages (1.17.0)\n",
            "Requirement already satisfied: geographiclib<2,>=1.49 in /usr/local/lib/python3.8/dist-packages (from geopy) (1.52)\n"
          ]
        }
      ]
    },
    {
      "cell_type": "code",
      "source": [
        "from geopy.geocoders import Nominatim\n",
        "geolocator = Nominatim(user_agent=\"Pritesh\")\n",
        "myaddress = [\"167 East 51st Street,Manhattan, NY\", \"357 West 35th Street,Manhattan, NY\", \"116 Main Street,Staten Island, NY\", \"92-15 Northern Boulevard,Queens, NY\", \"94-41 43rd Avenue,Queens, NY\", \"5-47 50th Avenue,Queens, NY\", \"68-40 Austin Street,Queens, NY\"]\n",
        "data = []\n",
        "for a in myaddress:\n",
        "  d = geolocator.geocode(a)\n",
        "  #print(d)\n",
        "  print(d.raw.get(\"lat\"), d.raw.get(\"lon\"))\n",
        "  data.append(d)\n",
        "print(data)"
      ],
      "metadata": {
        "colab": {
          "base_uri": "https://localhost:8080/"
        },
        "id": "K_A23qE_40Zh",
        "outputId": "06713cb5-45ca-4c3d-fa63-fe7a1579caf4"
      },
      "execution_count": 14,
      "outputs": [
        {
          "output_type": "stream",
          "name": "stdout",
          "text": [
            "40.7567621 -73.9707859\n",
            "40.7538182 -73.9949851\n",
            "40.51184395 -74.24997827590624\n",
            "40.756843599999996 -73.8755332327489\n",
            "40.745218550000004 -73.87007180184463\n",
            "40.74303995 -73.95474394328949\n",
            "40.722245900000004 -73.85111500966215\n",
            "[Location(NYPD 17 PCT, 167, East 51st Street, Manhattan Community Board 6, Manhattan, New York County, City of New York, New York, 10022, United States, (40.7567621, -73.9707859, 0.0)), Location(357, West 35th Street, Manhattan Community Board 4, Manhattan, New York County, City of New York, New York, 10018, United States, (40.7538182, -73.9949851, 0.0)), Location(116, Main Street, Tottenville, Staten Island, City of New York, New York, 10307, United States, (40.51184395, -74.24997827590624, 0.0)), Location(New York City Police Department - 115th Precinct, 92-15, Northern Boulevard, Jackson Heights, Queens, City of New York, New York, 11369, United States, (40.756843599999996, -73.8755332327489, 0.0)), Location(94-41, 43rd Avenue, Corona, Queens, City of New York, New York, 11373, United States, (40.745218550000004, -73.87007180184463, 0.0)), Location(108th Precinct Police Station, 5-47, 50th Avenue, Long Island City, Queens, City of New York, New York, 11101, United States, (40.74303995, -73.95474394328949, 0.0)), Location(NYPD 112 PCT, 68-40, Austin Street, Queens, City of New York, New York, 11375, United States, (40.722245900000004, -73.85111500966215, 0.0))]\n"
          ]
        }
      ]
    }
  ]
}